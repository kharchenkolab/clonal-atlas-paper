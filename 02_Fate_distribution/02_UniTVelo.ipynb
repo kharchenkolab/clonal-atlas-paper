{
 "cells": [
  {
   "cell_type": "code",
   "execution_count": 2,
   "id": "0ab1a821-b525-46b5-8ede-cfcb874e4cd9",
   "metadata": {},
   "outputs": [],
   "source": [
    "import scanpy as sc\n",
    "import numpy as np\n",
    "import scanpy.external as sce\n",
    "import pandas as pd\n",
    "import scvelo as scv\n",
    "import seaborn as sns\n",
    "import matplotlib.pyplot as plt\n",
    "import importlib\n",
    "import sys\n",
    "import symphonypy as sp\n",
    "\n",
    "# Figures aesthetics\n",
    "sc.set_figure_params(dpi=150)\n",
    "\n",
    "# Pathes\n",
    "DATA_PATH = \"/home/sergey/data/clonal_project\"\n",
    "HOME_PATH = \"/home/sergey/projects/clonal_project\"\n",
    "\n",
    "# Additional functions\n",
    "exec(open(f\"{HOME_PATH}/tools/tools.py\").read())\n",
    "sns.set_style(\"ticks\")"
   ]
  },
  {
   "cell_type": "code",
   "execution_count": 3,
   "id": "01dea87c-6dfd-49db-a580-14b928f7197f",
   "metadata": {},
   "outputs": [],
   "source": [
    "adata_counts = sc.read_h5ad(f\"{DATA_PATH}/anndatas_counts/reference_E13.h5ad\")"
   ]
  },
  {
   "cell_type": "code",
   "execution_count": 4,
   "id": "6944c2a0-f961-4d7d-b0c8-4cbb9e0a6203",
   "metadata": {},
   "outputs": [
    {
     "name": "stderr",
     "output_type": "stream",
     "text": [
      "100%|████████████████████████████████████████████████████████████████████████████████████████████| 15/15 [10:31<00:00, 42.13s/it]\n"
     ]
    }
   ],
   "source": [
    "from tqdm import tqdm\n",
    "\n",
    "adatas_velocity = []\n",
    "for sample in tqdm(set(adata_counts.obs[\"sample_id\"])):\n",
    "    adata = sc.read_loom(f\"{DATA_PATH}/cellranger/{sample}/{sample}_GEX_velocyto.loom\")\n",
    "    adata.obs.index = [f\"{sample}:{bc[4:-1]}\" for bc in adata.obs_names]\n",
    "    adata.var_names_make_unique()\n",
    "    adatas_velocity.append(adata)\n",
    "    \n",
    "adatas_velocity = adatas_velocity[0].concatenate(\n",
    "    adatas_velocity[1:],\n",
    "    join=\"outer\",\n",
    "    batch_key=None,\n",
    "    index_unique=None,\n",
    "    fill_value=0,\n",
    ")[adata_counts.obs_names]\n",
    "\n",
    "for layer in [\"ambiguous\", \"spliced\", \"unspliced\"]:\n",
    "    adata_counts.layers[layer] = adatas_velocity[adata_counts.obs_names].layers[layer]"
   ]
  },
  {
   "cell_type": "code",
   "execution_count": 11,
   "id": "8ee9a163-0ef0-4ff3-8f84-a89d95efd285",
   "metadata": {},
   "outputs": [],
   "source": [
    "adata_counts.write_h5ad(f\"{DATA_PATH}/anndatas_counts/reference_E13.h5ad\")"
   ]
  }
 ],
 "metadata": {
  "kernelspec": {
   "display_name": "Python 3 (ipykernel)",
   "language": "python",
   "name": "python3"
  },
  "language_info": {
   "codemirror_mode": {
    "name": "ipython",
    "version": 3
   },
   "file_extension": ".py",
   "mimetype": "text/x-python",
   "name": "python",
   "nbconvert_exporter": "python",
   "pygments_lexer": "ipython3",
   "version": "3.9.16"
  }
 },
 "nbformat": 4,
 "nbformat_minor": 5
}
