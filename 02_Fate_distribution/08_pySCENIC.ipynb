{
 "cells": [
  {
   "cell_type": "code",
   "execution_count": 3,
   "id": "9cedf6ef-8a90-471c-b679-0388b55f1e92",
   "metadata": {
    "tags": []
   },
   "outputs": [],
   "source": [
    "import scanpy as sc\n",
    "import numpy as np\n",
    "import scanpy.external as sce\n",
    "import pandas as pd\n",
    "import scvelo as scv\n",
    "import seaborn as sns\n",
    "import matplotlib.pyplot as plt\n",
    "import importlib\n",
    "import sys\n",
    "import symphonypy as sp\n",
    "import palantir\n",
    "import scFates as scf\n",
    "\n",
    "sys.path.append(\"/home/sergey/tools/sclitr/\")\n",
    "import sclitr as sl\n",
    "\n",
    "# Pathes\n",
    "DATA_PATH = \"/home/sergey/data/clonal_project\"\n",
    "HOME_PATH = \"/home/sergey/projects/clonal_project\"\n",
    "\n",
    "# Additional functions\n",
    "exec(open(f\"{HOME_PATH}/tools/tools.py\").read())\n",
    "sns.set_style(\"ticks\")\n",
    "\n",
    "sys.path.append(\"/home/sergey/tools/mmbench/\")\n",
    "import mmbench as mb"
   ]
  },
  {
   "cell_type": "code",
   "execution_count": 2,
   "id": "9762ca56-8e42-4151-b37e-86ac1445381e",
   "metadata": {
    "tags": []
   },
   "outputs": [],
   "source": [
    "sc.settings.verbosity = 1\n",
    "sns.set(font_scale=1)\n",
    "sc.settings.set_figure_params(dpi=150, vector_friendly=False)\n",
    "sns.set_style(\"ticks\")\n",
    "Reds = mb.pl.beautiful_cmap()\n",
    "Blues = mb.pl.beautiful_cmap(\"Blues\")"
   ]
  },
  {
   "cell_type": "code",
   "execution_count": 6,
   "id": "0e98a52a-a679-4cad-97e3-f3cd5d69fc87",
   "metadata": {
    "tags": []
   },
   "outputs": [],
   "source": [
    "adata_m = sc.read_h5ad(f\"{DATA_PATH}/anndatas/merged_clones_trunk_E13/trunk_mes_E13_clonal_clusters.h5ad\")\n",
    "adata_counts = sc.read_h5ad(f\"{DATA_PATH}/anndatas_counts/reference_E13.h5ad\")[adata_m.obs_names]"
   ]
  },
  {
   "cell_type": "code",
   "execution_count": 10,
   "id": "38cfd8da-3d1d-462b-b465-fb749af3448e",
   "metadata": {
    "tags": []
   },
   "outputs": [],
   "source": [
    "for layer in adata_counts.layers:\n",
    "    del adata_counts\n",
    "    \n",
    "adata_counts.obs = pd.DataFrame(index=adata_counts.obs_names)\n",
    "adata_counts.var = pd.DataFrame(index=adata_counts.var_names)"
   ]
  },
  {
   "cell_type": "code",
   "execution_count": 32,
   "id": "fddf7aab-63c5-43fb-8838-fb7a219134dc",
   "metadata": {
    "tags": []
   },
   "outputs": [],
   "source": [
    "sc.pp.filter_genes(adata_counts, min_cells=20)"
   ]
  },
  {
   "cell_type": "code",
   "execution_count": 34,
   "id": "051c346a-b1a1-4feb-8657-2da44935fc54",
   "metadata": {
    "tags": []
   },
   "outputs": [],
   "source": [
    "import loompy as lp\n",
    "\n",
    "row_attrs = { \n",
    "    \"Gene\": np.array(adata_counts.var.index),\n",
    "}\n",
    "\n",
    "col_attrs = { \n",
    "    \"CellID\":  np.array(adata_counts.obs.index),\n",
    "    \"nGene\": np.array(np.sum(adata_counts.X.transpose() > 0, axis=0)).flatten() ,\n",
    "    \"nUMI\": np.array(np.sum(adata_counts.X.transpose(), axis=0)).flatten() ,\n",
    "}\n",
    "\n",
    "lp.create(\"scenic/adata_m_scenic.loom\", adata_counts.X.transpose(), row_attrs, col_attrs)"
   ]
  },
  {
   "cell_type": "code",
   "execution_count": 29,
   "id": "17915715-b871-4ac3-a1eb-4c67c4d0e584",
   "metadata": {
    "tags": []
   },
   "outputs": [
    {
     "name": "stdout",
     "output_type": "stream",
     "text": [
      "docker: Got permission denied while trying to connect to the Docker daemon socket at unix:///var/run/docker.sock: Post \"http://%2Fvar%2Frun%2Fdocker.sock/v1.24/containers/create\": dial unix /var/run/docker.sock: connect: permission denied.\n",
      "See 'docker run --help'.\n"
     ]
    }
   ],
   "source": [
    "!docker run -it --rm -v $(pwd)/scenic:/scenicdata \\\n",
    "    aertslab/pyscenic:0.12.0 pyscenic grn \\\n",
    "        --num_workers 25 \\\n",
    "        -o /scenicdata/adjacencies.tsv \\\n",
    "        /scenicdata/adata_m_scenic.loom \\\n",
    "        /scenicdata/mm_mgi_tfs.txt"
   ]
  },
  {
   "cell_type": "code",
   "execution_count": null,
   "id": "c4853cb0-81ec-4479-aee0-63c0fa5de42a",
   "metadata": {},
   "outputs": [],
   "source": [
    "!docker run --rm -v $(pwd)/scenic:/scenicdata \\\n",
    "    aertslab/pyscenic:0.12.0 pyscenic ctx \\\n",
    "        /scenicdata/adjacencies.tsv \\\n",
    "        /scenicdata/cisTarget_databases/mm10__refseq-r80__10kb_up_and_down_tss.mc9nr.genes_vs_motifs.rankings.feather \\\n",
    "        /scenicdata/cisTarget_databases/mm10__refseq-r80__500bp_up_and_100bp_down_tss.mc9nr.genes_vs_motifs.rankings.feather \\\n",
    "        --annotations_fname /scenicdata/cisTarget_databases/motifs-v9-nr.mgi-m0.001-o0.0.tbl \\\n",
    "        --expression_mtx_fname /scenicdata/adata_m_scenic.loom \\\n",
    "        --mode \"dask_multiprocessing\" \\\n",
    "        --output /scenicdata/regulons.csv \\\n",
    "        --num_workers 25"
   ]
  },
  {
   "cell_type": "code",
   "execution_count": null,
   "id": "8b371b36-3380-4956-82e1-9e248a6fb669",
   "metadata": {},
   "outputs": [],
   "source": [
    "!docker run --rm -v $(pwd)/scenic:/scenicdata \\\n",
    "    aertslab/pyscenic:0.12.0 pyscenic aucell \\\n",
    "    /scenicdata/adata_m_scenic.loom \\\n",
    "    /scenicdata/regulons.csv \\\n",
    "    -o /scenicdata/scenic.loom \\\n",
    "    --num_workers 25"
   ]
  }
 ],
 "metadata": {
  "kernelspec": {
   "display_name": "sc",
   "language": "python",
   "name": "sc"
  },
  "language_info": {
   "codemirror_mode": {
    "name": "ipython",
    "version": 3
   },
   "file_extension": ".py",
   "mimetype": "text/x-python",
   "name": "python",
   "nbconvert_exporter": "python",
   "pygments_lexer": "ipython3",
   "version": "3.10.5"
  }
 },
 "nbformat": 4,
 "nbformat_minor": 5
}
