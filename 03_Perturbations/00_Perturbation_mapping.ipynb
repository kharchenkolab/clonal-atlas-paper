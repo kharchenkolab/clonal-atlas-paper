{
 "cells": [
  {
   "cell_type": "markdown",
   "id": "aa533ecd-9bd7-40df-b89c-209e0b7bbf7e",
   "metadata": {},
   "source": [
    "# Mapping of perturbed samples"
   ]
  },
  {
   "cell_type": "code",
   "execution_count": 2,
   "id": "88537fec-fbb3-4d1a-9aaf-c8f7314777e2",
   "metadata": {},
   "outputs": [],
   "source": [
    "import scanpy as sc\n",
    "import numpy as np\n",
    "import scanpy.external as sce\n",
    "import pandas as pd\n",
    "import scvelo as scv\n",
    "import seaborn as sns\n",
    "import matplotlib.pyplot as plt\n",
    "import importlib\n",
    "import sys\n",
    "import symphonypy as sp\n",
    "\n",
    "# Figures aesthetics\n",
    "sc.set_figure_params(dpi=150)\n",
    "\n",
    "# Pathes\n",
    "DATA_PATH = \"/home/sergey/data/clonal_project\"\n",
    "HOME_PATH = \"/home/sergey/projects/clonal_project\"\n",
    "\n",
    "# Additional functions\n",
    "exec(open(f\"{HOME_PATH}/tools/tools.py\").read())\n",
    "sns.set_style(\"ticks\")\n",
    "\n",
    "g2m_genes = list(pd.read_csv(\"/home/sergey/data/additional/cell_cycle_genes/G2M_phase.txt\", names=[\"gene\"]).gene)\n",
    "g2m_genes = [gene[0].upper() + gene[1:].lower() for gene in g2m_genes]\n",
    "\n",
    "s_genes = list(pd.read_csv(\"/home/sergey/data/additional/cell_cycle_genes/S_phase.txt\", names=[\"gene\"]).gene)\n",
    "s_genes = [gene[0].upper() + gene[1:].lower() for gene in s_genes]"
   ]
  },
  {
   "cell_type": "code",
   "execution_count": 3,
   "id": "bd07bf71-78f2-40b4-b2f5-cb5e92f1cbc8",
   "metadata": {},
   "outputs": [],
   "source": [
    "injections = [\"injection8\", \"injection9\", \"injection10\", \"injection18\"]\n",
    "\n",
    "adatas = []\n",
    "for injection in injections:\n",
    "    adata = sc.read_h5ad(f\"{DATA_PATH}/anndatas_counts/{injection}.h5ad\")\n",
    "    if \"E8.5:clones\" in adata.obs:\n",
    "        adata.obs[\"E8.5:clones\"] = adata.obs[\"E8.5:clones\"].fillna(\"NA\")\n",
    "    if \"E7.5:clones\" in adata.obs:\n",
    "        adata.obs[\"E7.5:clones\"] = adata.obs[\"E7.5:clones\"].fillna(\"NA\")\n",
    "    adata = adata[:, ~np.isin(adata.var_names, [\"GFPbc\", \"TOMbc\"])]\n",
    "    adata.layers[\"counts\"] = adata.X.copy()\n",
    "    adata.var.mt = adata.var.mt.astype(bool)\n",
    "    adatas.append(adata)\n",
    "    \n",
    "adata = adatas[0].concatenate(\n",
    "    adatas[1:],\n",
    "    join=\"outer\",\n",
    "    batch_key=None,\n",
    "    uns_merge=\"first\",\n",
    "    index_unique=None,\n",
    "    fill_value=0,\n",
    ")\n",
    "for var_column in adata.var:\n",
    "    del adata.var[var_column]"
   ]
  },
  {
   "cell_type": "code",
   "execution_count": 4,
   "id": "577fd9dd-b8c4-4c2d-991b-2a22cf924256",
   "metadata": {},
   "outputs": [],
   "source": [
    "adata.write_h5ad(\"/home/sergey/data/clonal_project/anndatas_counts/reference_perturbations_E13_noEtOH.h5ad\")"
   ]
  },
  {
   "cell_type": "markdown",
   "id": "ba4fcf62-f311-460a-87db-9e4b64049aba",
   "metadata": {},
   "source": [
    "## Trunk"
   ]
  },
  {
   "cell_type": "code",
   "execution_count": 5,
   "id": "4a999461-7f9d-46c6-8857-5854220e48d3",
   "metadata": {},
   "outputs": [],
   "source": [
    "face_samples = [\"H2\", \"F1\", \"N1\"]\n",
    "adata = adata[~adata.obs.sample_id.isin(face_samples)]"
   ]
  },
  {
   "cell_type": "code",
   "execution_count": 6,
   "id": "956977f2-b81e-4631-9e2b-53f1132caf6e",
   "metadata": {},
   "outputs": [
    {
     "name": "stdout",
     "output_type": "stream",
     "text": [
      "WARNING: genes are not in var_names and ignored: ['Mlf1ip']\n",
      "WARNING: genes are not in var_names and ignored: ['Fam64a', 'Hn1']\n"
     ]
    }
   ],
   "source": [
    "sc.pp.normalize_total(adata, target_sum=1e4)\n",
    "sc.pp.log1p(adata)\n",
    "sc.tl.score_genes_cell_cycle(adata, s_genes=s_genes, g2m_genes=g2m_genes)\n",
    "\n",
    "adata_cycling = adata[adata.obs.phase != \"G1\"]\n",
    "adata_noncycling = adata[adata.obs.phase == \"G1\"]"
   ]
  },
  {
   "cell_type": "code",
   "execution_count": 7,
   "id": "855f2b80-dd50-4462-8d5c-13a9bd16b4c4",
   "metadata": {},
   "outputs": [],
   "source": [
    "adata_trunk = sc.read_h5ad(f\"{DATA_PATH}/anndatas/trunk_E13_reference.h5ad\")\n",
    "adata_trunk_m = sc.read_h5ad(f\"{DATA_PATH}/anndatas/mesenchyme_trunk_E13_reference.h5ad\")\n",
    "adata_trunk_n = sc.read_h5ad(f\"{DATA_PATH}/anndatas/neurons_glia_trunk_E13_reference.h5ad\")\n",
    "adata_trunk_o = sc.read_h5ad(f\"{DATA_PATH}/anndatas/other_cells_trunk_E13_reference.h5ad\")\n",
    "adata_trunk_g = sc.read_h5ad(f\"{DATA_PATH}/anndatas/glia_trunk_E13_reference.h5ad\")"
   ]
  },
  {
   "cell_type": "code",
   "execution_count": 8,
   "id": "7bece4c2-c335-43f2-8a9c-4f2e52fdf0b9",
   "metadata": {},
   "outputs": [],
   "source": [
    "sp.tl.map_embedding(adata_noncycling, adata_trunk, key=\"sample_id\")\n",
    "sp.tl.map_embedding(adata_cycling, adata_trunk, key=\"sample_id\")"
   ]
  },
  {
   "cell_type": "code",
   "execution_count": 9,
   "id": "10f1c6a2-2480-46ff-b419-db58de50095c",
   "metadata": {},
   "outputs": [],
   "source": [
    "sp.tl.per_cell_confidence(adata_noncycling, adata_trunk)\n",
    "sp.tl.per_cell_confidence(adata_cycling, adata_trunk)"
   ]
  },
  {
   "cell_type": "code",
   "execution_count": 10,
   "id": "ae8bf38f-304b-4be9-92bb-f4ea7915b76b",
   "metadata": {},
   "outputs": [],
   "source": [
    "sp.tl.transfer_labels_kNN(adata_noncycling, adata_trunk, \"celltype_l0\")\n",
    "sp.tl.transfer_labels_kNN(adata_cycling, adata_trunk, \"celltype_l0\")"
   ]
  },
  {
   "cell_type": "markdown",
   "id": "aa2b8bdd-be39-4df3-b96c-3b8cbd6cec9e",
   "metadata": {},
   "source": [
    "### Mesenchyme"
   ]
  },
  {
   "cell_type": "code",
   "execution_count": 11,
   "id": "f4bccdfe-2541-4228-a14a-9204a6632e08",
   "metadata": {},
   "outputs": [
    {
     "name": "stderr",
     "output_type": "stream",
     "text": [
      "2024-04-05 22:32:06.625115: W tensorflow/stream_executor/platform/default/dso_loader.cc:64] Could not load dynamic library 'libcudart.so.11.0'; dlerror: libcudart.so.11.0: cannot open shared object file: No such file or directory\n",
      "2024-04-05 22:32:06.678817: E tensorflow/stream_executor/cuda/cuda_blas.cc:2981] Unable to register cuBLAS factory: Attempting to register factory for plugin cuBLAS when one has already been registered\n",
      "2024-04-05 22:32:08.053706: W tensorflow/stream_executor/platform/default/dso_loader.cc:64] Could not load dynamic library 'libnvinfer.so.7'; dlerror: libnvinfer.so.7: cannot open shared object file: No such file or directory\n",
      "2024-04-05 22:32:08.053852: W tensorflow/stream_executor/platform/default/dso_loader.cc:64] Could not load dynamic library 'libnvinfer_plugin.so.7'; dlerror: libnvinfer_plugin.so.7: cannot open shared object file: No such file or directory\n",
      "2024-04-05 22:32:08.053866: W tensorflow/compiler/tf2tensorrt/utils/py_utils.cc:38] TF-TRT Warning: Cannot dlopen some TensorRT libraries. If you would like to use Nvidia GPU with TensorRT, please make sure the missing libraries mentioned above are installed properly.\n"
     ]
    }
   ],
   "source": [
    "adata_noncycling_m = adata_noncycling[adata_noncycling.obs.celltype_l0 == \"Mesenchyme\"]\n",
    "adata_cycling_m = adata_cycling[adata_cycling.obs.celltype_l0 == \"Mesenchyme\"]\n",
    "\n",
    "sp.tl.map_embedding(adata_noncycling_m, adata_trunk_m, key=\"sample_id\")\n",
    "sp.tl.map_embedding(adata_cycling_m, adata_trunk_m, key=\"sample_id\")\n",
    "\n",
    "sp.tl.per_cell_confidence(adata_noncycling_m, adata_trunk_m)\n",
    "sp.tl.per_cell_confidence(adata_cycling_m, adata_trunk_m)\n",
    "\n",
    "sp.tl.transfer_labels_kNN(adata_noncycling_m, adata_trunk_m, [\"celltype_l2\", \"celltype_l3\"])\n",
    "sp.tl.transfer_labels_kNN(adata_cycling_m, adata_trunk_m, [\"celltype_l2\", \"celltype_l3\"])\n",
    "\n",
    "sp.tl.ingest(adata_noncycling_m, adata_trunk_m, use_rep=\"X_pca_harmony\")\n",
    "sp.tl.ingest(adata_cycling_m, adata_trunk_m, use_rep=\"X_pca_harmony\")"
   ]
  },
  {
   "cell_type": "markdown",
   "id": "42951275-715d-488e-8696-cff2259694ee",
   "metadata": {},
   "source": [
    "### Other cells"
   ]
  },
  {
   "cell_type": "code",
   "execution_count": 12,
   "id": "be3c71f2-db7e-4a61-a79a-2d55229c8c92",
   "metadata": {},
   "outputs": [],
   "source": [
    "adata_noncycling_o = adata_noncycling[adata_noncycling.obs.celltype_l0 == \"Other\"]\n",
    "adata_cycling_o = adata_cycling[adata_cycling.obs.celltype_l0 == \"Other\"]\n",
    "\n",
    "sp.tl.map_embedding(adata_noncycling_o, adata_trunk_o, key=\"sample_id\")\n",
    "sp.tl.map_embedding(adata_cycling_o, adata_trunk_o, key=\"sample_id\")\n",
    "\n",
    "sp.tl.per_cell_confidence(adata_noncycling_o, adata_trunk_o)\n",
    "sp.tl.per_cell_confidence(adata_cycling_o, adata_trunk_o)\n",
    "\n",
    "sp.tl.transfer_labels_kNN(adata_noncycling_o, adata_trunk_o, [\"celltype_l2\", \"celltype_l3\"])\n",
    "sp.tl.transfer_labels_kNN(adata_cycling_o, adata_trunk_o, [\"celltype_l2\", \"celltype_l3\"])\n",
    "\n",
    "sp.tl.ingest(adata_noncycling_o, adata_trunk_o, use_rep=\"X_pca_harmony\")\n",
    "sp.tl.ingest(adata_cycling_o, adata_trunk_o, use_rep=\"X_pca_harmony\")"
   ]
  },
  {
   "cell_type": "markdown",
   "id": "dd31429e-6233-4629-9348-b10031897448",
   "metadata": {},
   "source": [
    "### Neurons"
   ]
  },
  {
   "cell_type": "code",
   "execution_count": 13,
   "id": "c0cc5452-3ac2-4388-8ff1-9c3854c257a0",
   "metadata": {},
   "outputs": [],
   "source": [
    "adata_noncycling_n = adata_noncycling[adata_noncycling.obs.celltype_l0.isin([\"Neurons\", \"Glia\"])]\n",
    "adata_cycling_n = adata_cycling[adata_cycling.obs.celltype_l0.isin([\"Neurons\", \"Glia\"])]\n",
    "\n",
    "sp.tl.map_embedding(adata_noncycling_n, adata_trunk_n, key=\"sample_id\")\n",
    "sp.tl.map_embedding(adata_cycling_n, adata_trunk_n, key=\"sample_id\")\n",
    "\n",
    "sp.tl.per_cell_confidence(adata_noncycling_n, adata_trunk_n)\n",
    "sp.tl.per_cell_confidence(adata_cycling_n, adata_trunk_n)\n",
    "\n",
    "sp.tl.transfer_labels_kNN(adata_noncycling_n, adata_trunk_n, [\"celltype_l2\", \"celltype_l3\"])\n",
    "sp.tl.transfer_labels_kNN(adata_cycling_n, adata_trunk_n, [\"celltype_l2\", \"celltype_l3\"])\n",
    "\n",
    "sp.tl.ingest(adata_noncycling_n, adata_trunk_n, use_rep=\"X_pca_harmony\")\n",
    "sp.tl.ingest(adata_cycling_n, adata_trunk_n, use_rep=\"X_pca_harmony\")"
   ]
  },
  {
   "cell_type": "markdown",
   "id": "bbd0be67-6fd0-45d8-84cb-46235897739d",
   "metadata": {},
   "source": [
    "### Glia"
   ]
  },
  {
   "cell_type": "code",
   "execution_count": 14,
   "id": "d4764a04-b60e-4d64-bdad-e82e383b66fa",
   "metadata": {},
   "outputs": [],
   "source": [
    "groups = [\"Glia\", \"Autonomic sympathetic\", \"Chromaffin cells\", \"Autonomic parasympathetic\"]\n",
    "adata_noncycling_g = adata_noncycling_n[adata_noncycling_n.obs.celltype_l2.isin(groups)]\n",
    "adata_cycling_g = adata_cycling_n[adata_cycling_n.obs.celltype_l2.isin(groups)]\n",
    "\n",
    "sp.tl.map_embedding(adata_noncycling_g, adata_trunk_g, key=\"sample_id\")\n",
    "sp.tl.map_embedding(adata_cycling_g, adata_trunk_g, key=\"sample_id\")\n",
    "\n",
    "sp.tl.per_cell_confidence(adata_noncycling_g, adata_trunk_g)\n",
    "sp.tl.per_cell_confidence(adata_cycling_g, adata_trunk_g)\n",
    "\n",
    "sp.tl.transfer_labels_kNN(adata_noncycling_g, adata_trunk_g, [\"celltype_l2\", \"celltype_l3\"])\n",
    "sp.tl.transfer_labels_kNN(adata_cycling_g, adata_trunk_g, [\"celltype_l2\", \"celltype_l3\"])\n",
    "\n",
    "sp.tl.ingest(adata_noncycling_g, adata_trunk_g, use_rep=\"X_pca_harmony\")\n",
    "sp.tl.ingest(adata_cycling_g, adata_trunk_g, use_rep=\"X_pca_harmony\")"
   ]
  },
  {
   "cell_type": "markdown",
   "id": "d78ddd6b-5a67-45e7-a9ef-580628f84a84",
   "metadata": {},
   "source": [
    "### Finalising the results"
   ]
  },
  {
   "cell_type": "code",
   "execution_count": 15,
   "id": "68479837-7b53-4bf5-a553-e90924573028",
   "metadata": {},
   "outputs": [],
   "source": [
    "sp.tl.ingest(adata_noncycling, adata_trunk, use_rep=\"X_pca_harmony\")\n",
    "sp.tl.ingest(adata_cycling, adata_trunk, use_rep=\"X_pca_harmony\")"
   ]
  },
  {
   "cell_type": "code",
   "execution_count": 16,
   "id": "0c8e8f1b-82e1-4537-8260-2a0e4a3ae7a4",
   "metadata": {},
   "outputs": [],
   "source": [
    "adata_full = adata_cycling.concatenate(adata_noncycling, index_unique=None, batch_key=None, uns_merge=\"first\")\n",
    "\n",
    "adata_full.obs[\"celltype_l2\"] = np.nan\n",
    "adata_full.obs[\"celltype_l3\"] = np.nan\n",
    "\n",
    "for adata in [\n",
    "    adata_cycling_n, adata_cycling_g, adata_cycling_m, adata_cycling_o,\n",
    "    adata_noncycling_n, adata_noncycling_g, adata_noncycling_m, adata_noncycling_o,\n",
    "]:\n",
    "    adata_full.obs[\"celltype_l2\"].loc[adata.obs_names] = adata.obs[\"celltype_l2\"]\n",
    "    adata_full.obs[\"celltype_l3\"].loc[adata.obs_names] = adata.obs[\"celltype_l3\"]"
   ]
  },
  {
   "cell_type": "markdown",
   "id": "c1c0b307-1c75-4e7b-9e3c-0165fe922f33",
   "metadata": {},
   "source": [
    "### Saving the results"
   ]
  },
  {
   "cell_type": "code",
   "execution_count": 17,
   "id": "f6e49d59-d5b1-4a05-a1d1-94e6f9a61a49",
   "metadata": {
    "tags": []
   },
   "outputs": [],
   "source": [
    "!mkdir $DATA_PATH/anndatas/perturbations_noEtOH"
   ]
  },
  {
   "cell_type": "code",
   "execution_count": 18,
   "id": "2b9bae3d-075a-4d33-a05c-1222555283e7",
   "metadata": {},
   "outputs": [],
   "source": [
    "adata_full_n = adata_cycling_n.concatenate(adata_noncycling_n, index_unique=None, batch_key=None, uns_merge=\"first\")\n",
    "adata_full_o = adata_cycling_o.concatenate(adata_noncycling_o, index_unique=None, batch_key=None, uns_merge=\"first\")\n",
    "adata_full_g = adata_cycling_g.concatenate(adata_noncycling_g, index_unique=None, batch_key=None, uns_merge=\"first\")\n",
    "adata_full_m = adata_cycling_m.concatenate(adata_noncycling_m, index_unique=None, batch_key=None, uns_merge=\"first\")\n",
    "\n",
    "adata_full_n.write_h5ad(f\"{DATA_PATH}/anndatas/perturbations_noEtOH/trunk_E13_neurons_and_glia.h5ad\")\n",
    "adata_full_o.write_h5ad(f\"{DATA_PATH}/anndatas/perturbations_noEtOH/trunk_E13_other.h5ad\")\n",
    "adata_full_g.write_h5ad(f\"{DATA_PATH}/anndatas/perturbations_noEtOH/trunk_E13_glia.h5ad\")\n",
    "adata_full_m.write_h5ad(f\"{DATA_PATH}/anndatas/perturbations_noEtOH/trunk_E13_mesenchyme.h5ad\")\n",
    "\n",
    "adata_full.write_h5ad(f\"{DATA_PATH}/anndatas/perturbations_noEtOH/trunk_E13.h5ad\")"
   ]
  },
  {
   "cell_type": "code",
   "execution_count": 19,
   "id": "256b65f5-41b6-456d-a531-53f8a0271569",
   "metadata": {
    "tags": []
   },
   "outputs": [],
   "source": [
    "!mkdir $DATA_PATH/clonal_composition/perturbations_noEtOH"
   ]
  },
  {
   "cell_type": "code",
   "execution_count": 20,
   "id": "2798eb55-306f-48cb-a0ef-fde50cbb1956",
   "metadata": {},
   "outputs": [],
   "source": [
    "for timepoint in [\"E7.5\", \"E8.5\"]:\n",
    "    adata_full.obs.groupby([f\"{timepoint}:clones\", \"celltype_l3\"]).size().unstack().to_csv(f\"{DATA_PATH}/clonal_composition/perturbations_noEtOH/trunk_{timepoint}_l3.csv\")\n",
    "    adata_full.obs.groupby([f\"{timepoint}:clones\", \"celltype_l2\"]).size().unstack().to_csv(f\"{DATA_PATH}/clonal_composition/perturbations_noEtOH/trunk_{timepoint}_l2.csv\")\n",
    "    adata_full.obs.groupby([f\"{timepoint}:clones\", \"sample_id\"]).size().unstack().to_csv(f\"{DATA_PATH}/clonal_composition/perturbations_noEtOH/trunk_{timepoint}_sample_id.csv\")\n",
    "    pd.DataFrame(\n",
    "        [(i[0], i[1]) for i in set(zip(adata_full.obs[f\"{timepoint}:clones\"], adata_full.obs[\"CRISPR:predicted\"])) if str(i[0]) != \"nan\"],\n",
    "        columns=[f\"{timepoint}:clones\", \"CRISPR:predicted\"],\n",
    "    ).fillna(\"NA\").to_csv(f\"{DATA_PATH}/clonal_composition/perturbations_noEtOH/trunk_{timepoint}_gRNA.csv\")"
   ]
  },
  {
   "cell_type": "markdown",
   "id": "a37e81cd-c029-4a7f-8889-7d4a8f724fb9",
   "metadata": {},
   "source": [
    "## Face"
   ]
  },
  {
   "cell_type": "code",
   "execution_count": 21,
   "id": "ec4614c9-0764-47be-bd67-8f0c66975412",
   "metadata": {
    "tags": []
   },
   "outputs": [],
   "source": [
    "adata = sc.read_h5ad(\"/home/sergey/data/clonal_project/anndatas_counts/reference_perturbations_E13_noEtOH.h5ad\")"
   ]
  },
  {
   "cell_type": "code",
   "execution_count": 22,
   "id": "27269dcc-0ef4-411e-bacc-05efeed47d21",
   "metadata": {
    "tags": []
   },
   "outputs": [],
   "source": [
    "face_samples = [\"H2\", \"F1\", \"N1\"]\n",
    "adata = adata[adata.obs.sample_id.isin(face_samples)]"
   ]
  },
  {
   "cell_type": "code",
   "execution_count": 23,
   "id": "be485a91-f531-4964-a872-07a85a1f5265",
   "metadata": {
    "tags": []
   },
   "outputs": [
    {
     "name": "stdout",
     "output_type": "stream",
     "text": [
      "WARNING: genes are not in var_names and ignored: ['Mlf1ip']\n",
      "WARNING: genes are not in var_names and ignored: ['Fam64a', 'Hn1']\n"
     ]
    }
   ],
   "source": [
    "sc.pp.normalize_total(adata, target_sum=1e4)\n",
    "sc.pp.log1p(adata)\n",
    "sc.tl.score_genes_cell_cycle(adata, s_genes=s_genes, g2m_genes=g2m_genes)\n",
    "\n",
    "adata_cycling = adata[adata.obs.phase != \"G1\"]\n",
    "adata_noncycling = adata[adata.obs.phase == \"G1\"]"
   ]
  },
  {
   "cell_type": "code",
   "execution_count": 24,
   "id": "a55aef0b-32df-4479-9a49-44fda63d8059",
   "metadata": {
    "tags": []
   },
   "outputs": [],
   "source": [
    "adata_face = sc.read_h5ad(f\"{DATA_PATH}/anndatas/face_E13_reference.h5ad\")\n",
    "adata_face_m = sc.read_h5ad(f\"{DATA_PATH}/anndatas/mesenchyme_face_E13_reference.h5ad\")\n",
    "adata_face_n = sc.read_h5ad(f\"{DATA_PATH}/anndatas/neurons_glia_face_E13_reference.h5ad\")\n",
    "adata_face_o = sc.read_h5ad(f\"{DATA_PATH}/anndatas/other_cells_face_E13_reference.h5ad\")"
   ]
  },
  {
   "cell_type": "code",
   "execution_count": 25,
   "id": "a93f3fb6-27a0-4973-86d2-95a8ba77c4af",
   "metadata": {
    "tags": []
   },
   "outputs": [],
   "source": [
    "sp.tl.map_embedding(adata_noncycling, adata_face, key=\"sample_id\")\n",
    "sp.tl.map_embedding(adata_cycling, adata_face, key=\"sample_id\")"
   ]
  },
  {
   "cell_type": "code",
   "execution_count": 26,
   "id": "a8744d8f-4759-4acf-b634-e616aa6a1a81",
   "metadata": {
    "tags": []
   },
   "outputs": [],
   "source": [
    "sp.tl.per_cell_confidence(adata_noncycling, adata_face)\n",
    "sp.tl.per_cell_confidence(adata_cycling, adata_face)"
   ]
  },
  {
   "cell_type": "code",
   "execution_count": 27,
   "id": "80088ea5-e1dc-47ad-b948-1ea4db9ad994",
   "metadata": {
    "tags": []
   },
   "outputs": [],
   "source": [
    "sp.tl.transfer_labels_kNN(adata_noncycling, adata_face, \"celltype_l0\")\n",
    "sp.tl.transfer_labels_kNN(adata_cycling, adata_face, \"celltype_l0\")"
   ]
  },
  {
   "cell_type": "markdown",
   "id": "e181faaa-d13c-4ab2-958e-d871b6648982",
   "metadata": {},
   "source": [
    "### Mesenchyme"
   ]
  },
  {
   "cell_type": "code",
   "execution_count": 28,
   "id": "6ddd49aa-9226-4d3b-a75f-685270b4cc58",
   "metadata": {
    "tags": []
   },
   "outputs": [],
   "source": [
    "adata_noncycling_m = adata_noncycling[adata_noncycling.obs.celltype_l0 == \"Mesenchyme\"]\n",
    "adata_cycling_m = adata_cycling[adata_cycling.obs.celltype_l0 == \"Mesenchyme\"]\n",
    "\n",
    "sp.tl.map_embedding(adata_noncycling_m, adata_face_m, key=\"sample_id\")\n",
    "sp.tl.map_embedding(adata_cycling_m, adata_face_m, key=\"sample_id\")\n",
    "\n",
    "sp.tl.per_cell_confidence(adata_noncycling_m, adata_face_m)\n",
    "sp.tl.per_cell_confidence(adata_cycling_m, adata_face_m)\n",
    "\n",
    "sp.tl.transfer_labels_kNN(adata_noncycling_m, adata_face_m, [\"celltype_l2\", \"celltype_l3\"])\n",
    "sp.tl.transfer_labels_kNN(adata_cycling_m, adata_face_m, [\"celltype_l2\", \"celltype_l3\"])\n",
    "\n",
    "sp.tl.ingest(adata_noncycling_m, adata_face_m, use_rep=\"X_pca_harmony\")\n",
    "sp.tl.ingest(adata_cycling_m, adata_face_m, use_rep=\"X_pca_harmony\")"
   ]
  },
  {
   "cell_type": "markdown",
   "id": "d36cf01a-1adf-4ac8-8c51-b8a8d5f649e7",
   "metadata": {},
   "source": [
    "### Other cells"
   ]
  },
  {
   "cell_type": "code",
   "execution_count": 29,
   "id": "169094bb-aeca-4659-957d-5376905d4532",
   "metadata": {
    "tags": []
   },
   "outputs": [],
   "source": [
    "adata_noncycling_o = adata_noncycling[adata_noncycling.obs.celltype_l0 == \"Other\"]\n",
    "adata_cycling_o = adata_cycling[adata_cycling.obs.celltype_l0 == \"Other\"]\n",
    "\n",
    "sp.tl.map_embedding(adata_noncycling_o, adata_face_o, key=\"sample_id\")\n",
    "sp.tl.map_embedding(adata_cycling_o, adata_face_o, key=\"sample_id\")\n",
    "\n",
    "sp.tl.per_cell_confidence(adata_noncycling_o, adata_face_o)\n",
    "sp.tl.per_cell_confidence(adata_cycling_o, adata_face_o)\n",
    "\n",
    "sp.tl.transfer_labels_kNN(adata_noncycling_o, adata_face_o, [\"celltype_l2\", \"celltype_l3\"])\n",
    "sp.tl.transfer_labels_kNN(adata_cycling_o, adata_face_o, [\"celltype_l2\", \"celltype_l3\"])\n",
    "\n",
    "sp.tl.ingest(adata_noncycling_o, adata_face_o, use_rep=\"X_pca_harmony\")\n",
    "sp.tl.ingest(adata_cycling_o, adata_face_o, use_rep=\"X_pca_harmony\")"
   ]
  },
  {
   "cell_type": "markdown",
   "id": "3b156330-33eb-4337-a3a2-e833c044ebc5",
   "metadata": {},
   "source": [
    "### Neurons and glia"
   ]
  },
  {
   "cell_type": "code",
   "execution_count": 30,
   "id": "a653ce52-fc8c-4ab8-accc-fdd8302c032c",
   "metadata": {
    "tags": []
   },
   "outputs": [],
   "source": [
    "adata_noncycling_n = adata_noncycling[adata_noncycling.obs.celltype_l0.isin([\"Neurons and glia\"])]\n",
    "adata_cycling_n = adata_cycling[adata_cycling.obs.celltype_l0.isin([\"Neurons and glia\"])]\n",
    "\n",
    "sp.tl.map_embedding(adata_noncycling_n, adata_face_n, key=\"sample_id\")\n",
    "sp.tl.map_embedding(adata_cycling_n, adata_face_n, key=\"sample_id\")\n",
    "\n",
    "sp.tl.per_cell_confidence(adata_noncycling_n, adata_face_n)\n",
    "sp.tl.per_cell_confidence(adata_cycling_n, adata_face_n)\n",
    "\n",
    "sp.tl.transfer_labels_kNN(adata_noncycling_n, adata_face_n, [\"celltype_l2\", \"celltype_l3\"])\n",
    "sp.tl.transfer_labels_kNN(adata_cycling_n, adata_face_n, [\"celltype_l2\", \"celltype_l3\"])\n",
    "\n",
    "sp.tl.ingest(adata_noncycling_n, adata_face_n, use_rep=\"X_pca_harmony\")\n",
    "sp.tl.ingest(adata_cycling_n, adata_face_n, use_rep=\"X_pca_harmony\")"
   ]
  },
  {
   "cell_type": "markdown",
   "id": "5c7e001c-a196-48fb-8da4-b7d984dac6ee",
   "metadata": {},
   "source": [
    "### Concatenation"
   ]
  },
  {
   "cell_type": "code",
   "execution_count": 31,
   "id": "af78075f-a448-4ada-b558-2a08912564cf",
   "metadata": {
    "tags": []
   },
   "outputs": [],
   "source": [
    "sp.tl.ingest(adata_noncycling, adata_face, use_rep=\"X_pca_harmony\")\n",
    "sp.tl.ingest(adata_cycling, adata_face, use_rep=\"X_pca_harmony\")"
   ]
  },
  {
   "cell_type": "code",
   "execution_count": 32,
   "id": "9537cbb9-b78d-43fa-a81c-85b1d76aa7d7",
   "metadata": {
    "tags": []
   },
   "outputs": [],
   "source": [
    "adata_full = adata_cycling.concatenate(adata_noncycling, index_unique=None, batch_key=None, uns_merge=\"first\")\n",
    "\n",
    "adata_full.obs[\"celltype_l2\"] = np.nan\n",
    "adata_full.obs[\"celltype_l3\"] = np.nan\n",
    "\n",
    "for adata in [\n",
    "    adata_cycling_n, adata_cycling_m, adata_cycling_o,\n",
    "    adata_noncycling_n, adata_noncycling_m, adata_noncycling_o,\n",
    "]:\n",
    "    adata_full.obs[\"celltype_l2\"].loc[adata.obs_names] = adata.obs[\"celltype_l2\"]\n",
    "    adata_full.obs[\"celltype_l3\"].loc[adata.obs_names] = adata.obs[\"celltype_l3\"]"
   ]
  },
  {
   "cell_type": "markdown",
   "id": "8c897c38-fed2-4587-93da-57f07fc7386e",
   "metadata": {},
   "source": [
    "### Saving the results"
   ]
  },
  {
   "cell_type": "code",
   "execution_count": 33,
   "id": "bf8ee44e-f844-4918-a8b4-d73809a638f4",
   "metadata": {
    "tags": []
   },
   "outputs": [],
   "source": [
    "adata_full_n = adata_cycling_n.concatenate(adata_noncycling_n, index_unique=None, batch_key=None, uns_merge=\"first\")\n",
    "adata_full_o = adata_cycling_o.concatenate(adata_noncycling_o, index_unique=None, batch_key=None, uns_merge=\"first\")\n",
    "adata_full_m = adata_cycling_m.concatenate(adata_noncycling_m, index_unique=None, batch_key=None, uns_merge=\"first\")\n",
    "\n",
    "adata_full_n.write_h5ad(f\"{DATA_PATH}/anndatas/perturbations_noEtOH/face_E13_neurons_and_glia.h5ad\")\n",
    "adata_full_o.write_h5ad(f\"{DATA_PATH}/anndatas/perturbations_noEtOH/face_E13_other.h5ad\")\n",
    "adata_full_m.write_h5ad(f\"{DATA_PATH}/anndatas/perturbations_noEtOH/face_E13_mesenchyme.h5ad\")\n",
    "\n",
    "adata_full.write_h5ad(f\"{DATA_PATH}/anndatas/perturbations_noEtOH/face_E13.h5ad\")"
   ]
  },
  {
   "cell_type": "code",
   "execution_count": 34,
   "id": "47cc3782-0426-4d94-b285-22c11511808a",
   "metadata": {
    "tags": []
   },
   "outputs": [],
   "source": [
    "for timepoint in [\"E7.5\", \"E8.5\"]:\n",
    "    adata_full.obs.groupby([f\"{timepoint}:clones\", \"celltype_l3\"]).size().unstack().to_csv(f\"{DATA_PATH}/clonal_composition/perturbations_noEtOH/face_{timepoint}_l3.csv\")\n",
    "    adata_full.obs.groupby([f\"{timepoint}:clones\", \"celltype_l2\"]).size().unstack().to_csv(f\"{DATA_PATH}/clonal_composition/perturbations_noEtOH/face_{timepoint}_l2.csv\")\n",
    "    adata_full.obs.groupby([f\"{timepoint}:clones\", \"sample_id\"]).size().unstack().to_csv(f\"{DATA_PATH}/clonal_composition/perturbations_noEtOH/face_{timepoint}_sample_id.csv\")\n",
    "    pd.DataFrame(\n",
    "        [(i[0], i[1]) for i in set(zip(adata_full.obs[f\"{timepoint}:clones\"], adata_full.obs[\"CRISPR:predicted\"])) if str(i[0]) != \"nan\"],\n",
    "        columns=[f\"{timepoint}:clones\", \"CRISPR:predicted\"],\n",
    "    ).fillna(\"NA\").to_csv(f\"{DATA_PATH}/clonal_composition/perturbations_noEtOH/face_{timepoint}_gRNA.csv\")"
   ]
  }
 ],
 "metadata": {
  "kernelspec": {
   "display_name": "sc",
   "language": "python",
   "name": "sc"
  },
  "language_info": {
   "codemirror_mode": {
    "name": "ipython",
    "version": 3
   },
   "file_extension": ".py",
   "mimetype": "text/x-python",
   "name": "python",
   "nbconvert_exporter": "python",
   "pygments_lexer": "ipython3",
   "version": "3.10.5"
  }
 },
 "nbformat": 4,
 "nbformat_minor": 5
}
